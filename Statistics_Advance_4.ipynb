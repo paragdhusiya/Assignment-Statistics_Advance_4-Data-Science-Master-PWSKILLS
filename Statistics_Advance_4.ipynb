{
 "cells": [
  {
   "cell_type": "markdown",
   "metadata": {},
   "source": [
    "Q1: What is the difference between a t-test and a z-test? Provide an example scenario where you would\n",
    "use each type of test."
   ]
  },
  {
   "cell_type": "code",
   "execution_count": 1,
   "metadata": {},
   "outputs": [
    {
     "name": "stdout",
     "output_type": "stream",
     "text": [
      "Z-Test Example:\n",
      "Z-Score: 1.8257\n",
      "P-Value (Z-Test): 0.0679\n",
      "Conclusion: Fail to reject the null hypothesis.\n",
      "\n",
      "\n",
      "T-Test Example:\n",
      "T-Score: 0.9682\n",
      "P-Value (T-Test): 0.3494\n",
      "Conclusion: Fail to reject the null hypothesis.\n"
     ]
    }
   ],
   "source": [
    "import numpy as np\n",
    "from scipy.stats import norm, t\n",
    "\n",
    "# Z-Test Example\n",
    "# Scenario: Population standard deviation is known\n",
    "\n",
    "# Given data\n",
    "population_mean = 100\n",
    "population_std = 15\n",
    "sample_mean = 105\n",
    "sample_size = 30\n",
    "\n",
    "# Z-Score calculation\n",
    "z_score = (sample_mean - population_mean) / (population_std / np.sqrt(sample_size))\n",
    "\n",
    "# Z-Test\n",
    "p_value_z = 2 * (1 - norm.cdf(np.abs(z_score)))  # Two-tailed test\n",
    "\n",
    "# Print results for Z-Test\n",
    "print(\"Z-Test Example:\")\n",
    "print(f\"Z-Score: {z_score:.4f}\")\n",
    "print(f\"P-Value (Z-Test): {p_value_z:.4f}\")\n",
    "if p_value_z < 0.05:\n",
    "    print(\"Conclusion: Reject the null hypothesis.\")\n",
    "else:\n",
    "    print(\"Conclusion: Fail to reject the null hypothesis.\")\n",
    "print(\"\\n\")\n",
    "\n",
    "# T-Test Example\n",
    "# Scenario: Population standard deviation is unknown\n",
    "\n",
    "# Given data\n",
    "sample_mean_t = 32\n",
    "sample_std_t = 8\n",
    "population_mean_t = 30\n",
    "sample_size_t = 15\n",
    "\n",
    "# T-Score calculation\n",
    "t_score = (sample_mean_t - population_mean_t) / (sample_std_t / np.sqrt(sample_size_t))\n",
    "\n",
    "# T-Test\n",
    "p_value_t = 2 * (1 - t.cdf(np.abs(t_score), df=sample_size_t - 1))  # Two-tailed test\n",
    "\n",
    "# Print results for T-Test\n",
    "print(\"T-Test Example:\")\n",
    "print(f\"T-Score: {t_score:.4f}\")\n",
    "print(f\"P-Value (T-Test): {p_value_t:.4f}\")\n",
    "if p_value_t < 0.05:\n",
    "    print(\"Conclusion: Reject the null hypothesis.\")\n",
    "else:\n",
    "    print(\"Conclusion: Fail to reject the null hypothesis.\")\n"
   ]
  },
  {
   "cell_type": "markdown",
   "metadata": {},
   "source": [
    "Q2: Differentiate between one-tailed and two-tailed tests."
   ]
  },
  {
   "cell_type": "code",
   "execution_count": 2,
   "metadata": {},
   "outputs": [
    {
     "name": "stdout",
     "output_type": "stream",
     "text": [
      "One-Tailed Test Example (Greater Than):\n",
      "T-Score: 1.8257\n",
      "P-Value (One-Tailed Test): 0.0391\n",
      "Conclusion: Reject the null hypothesis. The sample mean is significantly greater than the population mean.\n",
      "\n",
      "\n",
      "Two-Tailed Test Example (Not Equal To):\n",
      "T-Score: 1.8257\n",
      "P-Value (Two-Tailed Test): 0.0782\n",
      "Conclusion: Fail to reject the null hypothesis. The sample mean is not significantly different from the population mean.\n"
     ]
    }
   ],
   "source": [
    "import numpy as np\n",
    "from scipy.stats import t\n",
    "\n",
    "# Given data\n",
    "sample_mean = 105\n",
    "population_mean = 100\n",
    "population_std = 15\n",
    "sample_size = 30\n",
    "\n",
    "# One-Tailed Test Example\n",
    "# Scenario: Testing if the sample mean is significantly greater than the population mean\n",
    "\n",
    "# One-tailed test (greater than)\n",
    "t_score_one_tailed = (sample_mean - population_mean) / (population_std / np.sqrt(sample_size))\n",
    "p_value_one_tailed = 1 - t.cdf(t_score_one_tailed, df=sample_size - 1)  # Right-tailed test\n",
    "\n",
    "# Print results for One-Tailed Test\n",
    "print(\"One-Tailed Test Example (Greater Than):\")\n",
    "print(f\"T-Score: {t_score_one_tailed:.4f}\")\n",
    "print(f\"P-Value (One-Tailed Test): {p_value_one_tailed:.4f}\")\n",
    "if p_value_one_tailed < 0.05:\n",
    "    print(\"Conclusion: Reject the null hypothesis. The sample mean is significantly greater than the population mean.\")\n",
    "else:\n",
    "    print(\"Conclusion: Fail to reject the null hypothesis. The sample mean is not significantly greater than the population mean.\")\n",
    "print(\"\\n\")\n",
    "\n",
    "# Two-Tailed Test Example\n",
    "# Scenario: Testing if the sample mean is significantly different from the population mean\n",
    "\n",
    "# Two-tailed test (not equal to)\n",
    "t_score_two_tailed = (sample_mean - population_mean) / (population_std / np.sqrt(sample_size))\n",
    "p_value_two_tailed = 2 * (1 - t.cdf(np.abs(t_score_two_tailed), df=sample_size - 1))  # Two-tailed test\n",
    "\n",
    "# Print results for Two-Tailed Test\n",
    "print(\"Two-Tailed Test Example (Not Equal To):\")\n",
    "print(f\"T-Score: {t_score_two_tailed:.4f}\")\n",
    "print(f\"P-Value (Two-Tailed Test): {p_value_two_tailed:.4f}\")\n",
    "if p_value_two_tailed < 0.05:\n",
    "    print(\"Conclusion: Reject the null hypothesis. The sample mean is significantly different from the population mean.\")\n",
    "else:\n",
    "    print(\"Conclusion: Fail to reject the null hypothesis. The sample mean is not significantly different from the population mean.\")\n"
   ]
  },
  {
   "cell_type": "markdown",
   "metadata": {},
   "source": [
    "Q3: Explain the concept of Type 1 and Type 2 errors in hypothesis testing. Provide an example scenario for\n",
    "each type of error."
   ]
  },
  {
   "cell_type": "code",
   "execution_count": 4,
   "metadata": {},
   "outputs": [
    {
     "name": "stdout",
     "output_type": "stream",
     "text": [
      "Scenario 1: Type I Error (False Positive)\n",
      "T-Score: 0.4881\n",
      "P-Value: 0.3146\n",
      "Conclusion: Fail to reject the null hypothesis\n",
      "\n",
      "\n",
      "Scenario 2: Type II Error (False Negative)\n",
      "T-Score: 3.3895\n",
      "P-Value: 0.0020\n",
      "Conclusion: Reject the null hypothesis\n"
     ]
    }
   ],
   "source": [
    "import numpy as np\n",
    "from scipy.stats import ttest_1samp\n",
    "\n",
    "# True Population Mean and Standard Deviation\n",
    "true_population_mean = 100\n",
    "true_population_std = 15\n",
    "\n",
    "# Scenario 1: Type I Error (False Positive)\n",
    "# Null Hypothesis: Population mean is less than or equal to 100\n",
    "# Alternative Hypothesis: Population mean is greater than 100\n",
    "# Significance Level: 0.05\n",
    "\n",
    "# Simulate data assuming null hypothesis is true\n",
    "sample_size_type_i = 30\n",
    "sample_data_type_i = np.random.normal(loc=true_population_mean, scale=true_population_std, size=sample_size_type_i)\n",
    "\n",
    "# Perform a one-tailed test (right-tailed)\n",
    "t_score_type_i, p_value_type_i = ttest_1samp(sample_data_type_i, popmean=100, alternative='greater')\n",
    "\n",
    "# Print results for Type I Error\n",
    "print(\"Scenario 1: Type I Error (False Positive)\")\n",
    "print(f\"T-Score: {t_score_type_i:.4f}\")\n",
    "print(f\"P-Value: {p_value_type_i:.4f}\")\n",
    "if p_value_type_i < 0.05:\n",
    "    print(\"Conclusion: Reject the null hypothesis (Type I Error)\")\n",
    "else:\n",
    "    print(\"Conclusion: Fail to reject the null hypothesis\")\n",
    "\n",
    "print(\"\\n\")\n",
    "\n",
    "# Scenario 2: Type II Error (False Negative)\n",
    "# Null Hypothesis: Population mean is equal to 100\n",
    "# Alternative Hypothesis: Population mean is not equal to 100\n",
    "\n",
    "# Simulate data assuming alternative hypothesis is true\n",
    "sample_size_type_ii = 30\n",
    "sample_data_type_ii = np.random.normal(loc=true_population_mean + 5, scale=true_population_std, size=sample_size_type_ii)\n",
    "\n",
    "# Perform a two-tailed test\n",
    "t_score_type_ii, p_value_type_ii = ttest_1samp(sample_data_type_ii, popmean=100)\n",
    "\n",
    "# Print results for Type II Error\n",
    "print(\"Scenario 2: Type II Error (False Negative)\")\n",
    "print(f\"T-Score: {t_score_type_ii:.4f}\")\n",
    "print(f\"P-Value: {p_value_type_ii:.4f}\")\n",
    "if p_value_type_ii >= 0.05:\n",
    "    print(\"Conclusion: Fail to reject the null hypothesis (Type II Error)\")\n",
    "else:\n",
    "    print(\"Conclusion: Reject the null hypothesis\")\n"
   ]
  },
  {
   "cell_type": "markdown",
   "metadata": {},
   "source": [
    "Q4: Explain Bayes's theorem with an example."
   ]
  },
  {
   "cell_type": "code",
   "execution_count": 5,
   "metadata": {},
   "outputs": [
    {
     "name": "stdout",
     "output_type": "stream",
     "text": [
      "Probability of having the disease given a positive test result: 0.0194\n"
     ]
    }
   ],
   "source": [
    "# Given probabilities\n",
    "p_disease = 1 / 1000  # Prior probability of having the disease\n",
    "p_no_disease = 1 - p_disease  # Prior probability of not having the disease\n",
    "p_positive_given_disease = 0.99  # Sensitivity of the test\n",
    "p_positive_given_no_disease = 0.05  # False positive rate\n",
    "\n",
    "# Bayes's Theorem calculation\n",
    "p_disease_given_positive = (p_positive_given_disease * p_disease) / ((p_positive_given_disease * p_disease) + (p_positive_given_no_disease * p_no_disease))\n",
    "\n",
    "# Print result\n",
    "print(f\"Probability of having the disease given a positive test result: {p_disease_given_positive:.4f}\")\n"
   ]
  },
  {
   "cell_type": "markdown",
   "metadata": {},
   "source": [
    "Q5: What is a confidence interval? How to calculate the confidence interval, explain with an example."
   ]
  },
  {
   "cell_type": "code",
   "execution_count": 6,
   "metadata": {},
   "outputs": [
    {
     "name": "stdout",
     "output_type": "stream",
     "text": [
      "Sample Mean: 70.20\n",
      "Margin of Error: 1.90\n",
      "Confidence Interval: (68.30, 72.10)\n"
     ]
    }
   ],
   "source": [
    "import numpy as np\n",
    "from scipy.stats import t\n",
    "\n",
    "# Sample data (heights in inches)\n",
    "sample_data = np.array([68, 70, 72, 66, 71, 69, 73, 68, 70, 75])\n",
    "\n",
    "# Calculate sample mean and standard deviation\n",
    "sample_mean = np.mean(sample_data)\n",
    "sample_std = np.std(sample_data, ddof=1)  # ddof=1 for sample standard deviation\n",
    "\n",
    "# Set the confidence level and degrees of freedom\n",
    "confidence_level = 0.95\n",
    "degrees_of_freedom = len(sample_data) - 1\n",
    "\n",
    "# Calculate the standard error of the mean\n",
    "standard_error = sample_std / np.sqrt(len(sample_data))\n",
    "\n",
    "# Calculate the critical value from the t-distribution\n",
    "t_critical = t.ppf((1 + confidence_level) / 2, degrees_of_freedom)\n",
    "\n",
    "# Calculate the margin of error\n",
    "margin_of_error = t_critical * standard_error\n",
    "\n",
    "# Calculate the confidence interval\n",
    "confidence_interval_lower = sample_mean - margin_of_error\n",
    "confidence_interval_upper = sample_mean + margin_of_error\n",
    "\n",
    "# Print results\n",
    "print(f\"Sample Mean: {sample_mean:.2f}\")\n",
    "print(f\"Margin of Error: {margin_of_error:.2f}\")\n",
    "print(f\"Confidence Interval: ({confidence_interval_lower:.2f}, {confidence_interval_upper:.2f})\")\n"
   ]
  },
  {
   "cell_type": "markdown",
   "metadata": {},
   "source": [
    "Q6. Use Bayes' Theorem to calculate the probability of an event occurring given prior knowledge of the\n",
    "event's probability and new evidence. Provide a sample problem and solution."
   ]
  },
  {
   "cell_type": "code",
   "execution_count": 7,
   "metadata": {},
   "outputs": [
    {
     "name": "stdout",
     "output_type": "stream",
     "text": [
      "Probability of having the disease given a positive test result: 0.0902\n"
     ]
    }
   ],
   "source": [
    "# Given probabilities\n",
    "p_disease = 1 / 1000  # Prior probability of having the disease\n",
    "p_no_disease = 1 - p_disease  # Prior probability of not having the disease\n",
    "p_positive_given_disease = 0.99  # Sensitivity of the test\n",
    "p_positive_given_no_disease = 0.05  # False positive rate\n",
    "\n",
    "# Bayes's Theorem calculation\n",
    "def calculate_bayesian_probability(prior_prob, likelihood, evidence):\n",
    "    # Calculate the denominator (marginal likelihood)\n",
    "    marginal_likelihood = (prior_prob * likelihood) + ((1 - prior_prob) * (1 - evidence))\n",
    "    \n",
    "    # Calculate the posterior probability using Bayes's Theorem\n",
    "    posterior_prob = (prior_prob * likelihood) / marginal_likelihood\n",
    "    \n",
    "    return posterior_prob\n",
    "\n",
    "# Given evidence (testing positive)\n",
    "evidence_positive = p_positive_given_disease\n",
    "\n",
    "# Calculate the probability of having the disease given a positive test result\n",
    "posterior_probability = calculate_bayesian_probability(p_disease, p_positive_given_disease, evidence_positive)\n",
    "\n",
    "# Print result\n",
    "print(f\"Probability of having the disease given a positive test result: {posterior_probability:.4f}\")\n"
   ]
  },
  {
   "cell_type": "markdown",
   "metadata": {},
   "source": [
    "Q7. Calculate the 95% confidence interval for a sample of data with a mean of 50 and a standard deviation\n",
    "of 5. Interpret the results."
   ]
  },
  {
   "cell_type": "code",
   "execution_count": 8,
   "metadata": {},
   "outputs": [
    {
     "name": "stdout",
     "output_type": "stream",
     "text": [
      "Sample Mean: 50\n",
      "Population Standard Deviation: 5\n",
      "Confidence Level: 95.0%\n",
      "Margin of Error: 0.9800\n",
      "95% Confidence Interval: (49.0200, 50.9800)\n"
     ]
    }
   ],
   "source": [
    "import scipy.stats as stats\n",
    "\n",
    "# Given data\n",
    "sample_mean = 50\n",
    "population_std = 5\n",
    "confidence_level = 0.95\n",
    "\n",
    "# Number of observations in the sample\n",
    "sample_size = 100  # Adjust as needed\n",
    "\n",
    "# Calculate the margin of error using the Z-distribution\n",
    "margin_of_error = stats.norm.ppf((1 + confidence_level) / 2) * (population_std / (sample_size ** 0.5))\n",
    "\n",
    "# Calculate the confidence interval\n",
    "confidence_interval_lower = sample_mean - margin_of_error\n",
    "confidence_interval_upper = sample_mean + margin_of_error\n",
    "\n",
    "# Print results\n",
    "print(f\"Sample Mean: {sample_mean}\")\n",
    "print(f\"Population Standard Deviation: {population_std}\")\n",
    "print(f\"Confidence Level: {confidence_level * 100}%\")\n",
    "print(f\"Margin of Error: {margin_of_error:.4f}\")\n",
    "print(f\"95% Confidence Interval: ({confidence_interval_lower:.4f}, {confidence_interval_upper:.4f})\")\n"
   ]
  },
  {
   "cell_type": "markdown",
   "metadata": {},
   "source": [
    "Q8. What is the margin of error in a confidence interval? How does sample size affect the margin of error?\n",
    "Provide an example of a scenario where a larger sample size would result in a smaller margin of error."
   ]
  },
  {
   "cell_type": "code",
   "execution_count": 9,
   "metadata": {},
   "outputs": [
    {
     "name": "stdout",
     "output_type": "stream",
     "text": [
      "Small Sample - Margin of Error: 1.0735\n",
      "Larger Sample - Margin of Error: 0.4158\n"
     ]
    }
   ],
   "source": [
    "import numpy as np\n",
    "import scipy.stats as stats\n",
    "\n",
    "# Parameters\n",
    "population_mean = 65\n",
    "population_std = 3\n",
    "\n",
    "# Small sample size\n",
    "sample_size_small = 30\n",
    "sample_small = np.random.normal(population_mean, population_std, size=sample_size_small)\n",
    "margin_of_error_small = stats.norm.ppf(0.975) * (population_std / np.sqrt(sample_size_small))\n",
    "\n",
    "# Larger sample size\n",
    "sample_size_large = 200\n",
    "sample_large = np.random.normal(population_mean, population_std, size=sample_size_large)\n",
    "margin_of_error_large = stats.norm.ppf(0.975) * (population_std / np.sqrt(sample_size_large))\n",
    "\n",
    "# Print results\n",
    "print(f\"Small Sample - Margin of Error: {margin_of_error_small:.4f}\")\n",
    "print(f\"Larger Sample - Margin of Error: {margin_of_error_large:.4f}\")\n"
   ]
  },
  {
   "cell_type": "markdown",
   "metadata": {},
   "source": [
    "Q9. Calculate the z-score for a data point with a value of 75, a population mean of 70, and a population\n",
    "standard deviation of 5. Interpret the results."
   ]
  },
  {
   "cell_type": "code",
   "execution_count": 10,
   "metadata": {},
   "outputs": [
    {
     "name": "stdout",
     "output_type": "stream",
     "text": [
      "Z-Score for data point 75: 1.0000\n"
     ]
    }
   ],
   "source": [
    "# Given data\n",
    "data_point = 75\n",
    "population_mean = 70\n",
    "population_std = 5\n",
    "\n",
    "# Calculate z-score\n",
    "z_score = (data_point - population_mean) / population_std\n",
    "\n",
    "# Print result\n",
    "print(f\"Z-Score for data point {data_point}: {z_score:.4f}\")\n"
   ]
  },
  {
   "cell_type": "markdown",
   "metadata": {},
   "source": [
    "Q10. In a study of the effectiveness of a new weight loss drug, a sample of 50 participants lost an average\n",
    "of 6 pounds with a standard deviation of 2.5 pounds. Conduct a hypothesis test to determine if the drug is\n",
    "significantly effective at a 95% confidence level using a t-test."
   ]
  },
  {
   "cell_type": "code",
   "execution_count": 11,
   "metadata": {},
   "outputs": [
    {
     "name": "stdout",
     "output_type": "stream",
     "text": [
      "t-statistic: inf\n",
      "P-value: 0.0000\n",
      "Critical t-value: ±2.0096\n",
      "Null hypothesis rejected. The drug is significantly effective.\n"
     ]
    },
    {
     "name": "stderr",
     "output_type": "stream",
     "text": [
      "c:\\Users\\parag\\AppData\\Local\\Programs\\Python\\Python311\\Lib\\site-packages\\scipy\\stats\\_axis_nan_policy.py:523: RuntimeWarning: Precision loss occurred in moment calculation due to catastrophic cancellation. This occurs when the data are nearly identical. Results may be unreliable.\n",
      "  res = hypotest_fun_out(*samples, **kwds)\n"
     ]
    }
   ],
   "source": [
    "import scipy.stats as stats\n",
    "\n",
    "# Given data\n",
    "sample_mean = 6\n",
    "sample_std = 2.5\n",
    "sample_size = 50\n",
    "confidence_level = 0.95\n",
    "\n",
    "# Null hypothesis: The drug is not significantly effective (mean change = 0)\n",
    "null_hypothesis_mean = 0\n",
    "\n",
    "# Perform one-sample t-test\n",
    "t_stat, p_value = stats.ttest_1samp([sample_mean] * sample_size, null_hypothesis_mean)\n",
    "\n",
    "# Calculate degrees of freedom\n",
    "degrees_of_freedom = sample_size - 1\n",
    "\n",
    "# Critical t-value for a two-tailed test at 95% confidence level\n",
    "critical_t_value = stats.t.ppf((1 + confidence_level) / 2, df=degrees_of_freedom)\n",
    "\n",
    "# Print results\n",
    "print(f\"t-statistic: {t_stat:.4f}\")\n",
    "print(f\"P-value: {p_value:.4f}\")\n",
    "print(f\"Critical t-value: ±{critical_t_value:.4f}\")\n",
    "\n",
    "# Check if the null hypothesis is rejected\n",
    "if abs(t_stat) > critical_t_value or p_value < (1 - confidence_level):\n",
    "    print(\"Null hypothesis rejected. The drug is significantly effective.\")\n",
    "else:\n",
    "    print(\"Null hypothesis not rejected. The drug may not be significantly effective.\")\n"
   ]
  },
  {
   "cell_type": "markdown",
   "metadata": {},
   "source": [
    "Q11. In a survey of 500 people, 65% reported being satisfied with their current job. Calculate the 95%\n",
    "confidence interval for the true proportion of people who are satisfied with their job."
   ]
  },
  {
   "cell_type": "code",
   "execution_count": 12,
   "metadata": {},
   "outputs": [
    {
     "name": "stdout",
     "output_type": "stream",
     "text": [
      "Sample Proportion: 0.65\n",
      "Critical Z-value: ±1.9600\n",
      "Margin of Error: 0.0418\n",
      "95% Confidence Interval: (0.6082, 0.6918)\n"
     ]
    }
   ],
   "source": [
    "import scipy.stats as stats\n",
    "import math\n",
    "\n",
    "# Given data\n",
    "sample_proportion = 0.65\n",
    "sample_size = 500\n",
    "confidence_level = 0.95\n",
    "\n",
    "# Calculate critical Z-value\n",
    "critical_z_value = stats.norm.ppf((1 + confidence_level) / 2)\n",
    "\n",
    "# Calculate standard error\n",
    "standard_error = math.sqrt((sample_proportion * (1 - sample_proportion)) / sample_size)\n",
    "\n",
    "# Calculate margin of error\n",
    "margin_of_error = critical_z_value * standard_error\n",
    "\n",
    "# Calculate confidence interval\n",
    "confidence_interval_lower = sample_proportion - margin_of_error\n",
    "confidence_interval_upper = sample_proportion + margin_of_error\n",
    "\n",
    "# Print results\n",
    "print(f\"Sample Proportion: {sample_proportion}\")\n",
    "print(f\"Critical Z-value: ±{critical_z_value:.4f}\")\n",
    "print(f\"Margin of Error: {margin_of_error:.4f}\")\n",
    "print(f\"95% Confidence Interval: ({confidence_interval_lower:.4f}, {confidence_interval_upper:.4f})\")\n"
   ]
  },
  {
   "cell_type": "markdown",
   "metadata": {},
   "source": [
    "Q12. A researcher is testing the effectiveness of two different teaching methods on student performance.\n",
    "Sample A has a mean score of 85 with a standard deviation of 6, while sample B has a mean score of 82\n",
    "with a standard deviation of 5. Conduct a hypothesis test to determine if the two teaching methods have a\n",
    "significant difference in student performance using a t-test with a significance level of 0.01."
   ]
  },
  {
   "cell_type": "code",
   "execution_count": 13,
   "metadata": {},
   "outputs": [
    {
     "name": "stdout",
     "output_type": "stream",
     "text": [
      "t-statistic: 2.1039\n",
      "P-value: 0.0397\n",
      "Critical t-value: ±2.6633\n",
      "Null hypothesis not rejected. No significant difference in student performance.\n"
     ]
    }
   ],
   "source": [
    "import scipy.stats as stats\n",
    "\n",
    "# Given data for Sample A\n",
    "mean_A = 85\n",
    "std_A = 6\n",
    "sample_size_A = 30  # Adjust as needed\n",
    "\n",
    "# Given data for Sample B\n",
    "mean_B = 82\n",
    "std_B = 5\n",
    "sample_size_B = 30  # Adjust as needed\n",
    "\n",
    "# Significance level\n",
    "alpha = 0.01\n",
    "\n",
    "# Perform two-sample t-test\n",
    "t_stat, p_value = stats.ttest_ind_from_stats(mean_A, std_A, sample_size_A, mean_B, std_B, sample_size_B)\n",
    "\n",
    "# Degrees of freedom\n",
    "degrees_of_freedom = sample_size_A + sample_size_B - 2\n",
    "\n",
    "# Critical t-value for a two-tailed test at the given significance level\n",
    "critical_t_value = stats.t.ppf(1 - alpha / 2, df=degrees_of_freedom)\n",
    "\n",
    "# Print results\n",
    "print(f\"t-statistic: {t_stat:.4f}\")\n",
    "print(f\"P-value: {p_value:.4f}\")\n",
    "print(f\"Critical t-value: ±{critical_t_value:.4f}\")\n",
    "\n",
    "# Check if the null hypothesis is rejected\n",
    "if abs(t_stat) > critical_t_value or p_value < alpha:\n",
    "    print(\"Null hypothesis rejected. There is a significant difference in student performance.\")\n",
    "else:\n",
    "    print(\"Null hypothesis not rejected. No significant difference in student performance.\")\n"
   ]
  },
  {
   "cell_type": "markdown",
   "metadata": {},
   "source": [
    "Q13. A population has a mean of 60 and a standard deviation of 8. A sample of 50 observations has a mean\n",
    "of 65. Calculate the 90% confidence interval for the true population mean."
   ]
  },
  {
   "cell_type": "code",
   "execution_count": 14,
   "metadata": {},
   "outputs": [
    {
     "name": "stdout",
     "output_type": "stream",
     "text": [
      "Sample Mean: 65\n",
      "Population Standard Deviation: 8\n",
      "Critical Z-value: ±1.6449\n",
      "Margin of Error: 1.8609\n",
      "90% Confidence Interval: (63.1391, 66.8609)\n"
     ]
    }
   ],
   "source": [
    "import scipy.stats as stats\n",
    "import math\n",
    "\n",
    "# Given data\n",
    "sample_mean = 65\n",
    "population_std = 8\n",
    "sample_size = 50\n",
    "confidence_level = 0.90\n",
    "\n",
    "# Calculate critical Z-value\n",
    "critical_z_value = stats.norm.ppf((1 + confidence_level) / 2)\n",
    "\n",
    "# Calculate margin of error\n",
    "margin_of_error = critical_z_value * (population_std / math.sqrt(sample_size))\n",
    "\n",
    "# Calculate confidence interval\n",
    "confidence_interval_lower = sample_mean - margin_of_error\n",
    "confidence_interval_upper = sample_mean + margin_of_error\n",
    "\n",
    "# Print results\n",
    "print(f\"Sample Mean: {sample_mean}\")\n",
    "print(f\"Population Standard Deviation: {population_std}\")\n",
    "print(f\"Critical Z-value: ±{critical_z_value:.4f}\")\n",
    "print(f\"Margin of Error: {margin_of_error:.4f}\")\n",
    "print(f\"90% Confidence Interval: ({confidence_interval_lower:.4f}, {confidence_interval_upper:.4f})\")\n"
   ]
  },
  {
   "cell_type": "markdown",
   "metadata": {},
   "source": [
    "Q14. In a study of the effects of caffeine on reaction time, a sample of 30 participants had an average\n",
    "reaction time of 0.25 seconds with a standard deviation of 0.05 seconds. Conduct a hypothesis test to\n",
    "determine if the caffeine has a significant effect on reaction time at a 90% confidence level using a t-test."
   ]
  },
  {
   "cell_type": "code",
   "execution_count": 15,
   "metadata": {},
   "outputs": [
    {
     "name": "stdout",
     "output_type": "stream",
     "text": [
      "Sample Mean: 0.25\n",
      "Sample Standard Deviation: 0.05\n",
      "Hypothesized Population Mean: 0.2\n",
      "t-statistic: inf\n",
      "P-value: 0.0000\n",
      "Critical t-value: ±1.6991\n",
      "Null hypothesis rejected. Caffeine has a significant effect on reaction time.\n"
     ]
    }
   ],
   "source": [
    "import scipy.stats as stats\n",
    "\n",
    "# Given data\n",
    "sample_mean = 0.25\n",
    "sample_std = 0.05\n",
    "sample_size = 30  # Adjust as needed\n",
    "confidence_level = 0.90\n",
    "\n",
    "# Hypothesized population mean (null hypothesis)\n",
    "hypothesized_mean = 0.20\n",
    "\n",
    "# Perform one-sample t-test\n",
    "t_stat, p_value = stats.ttest_1samp([sample_mean] * sample_size, popmean=hypothesized_mean)\n",
    "\n",
    "# Degrees of freedom\n",
    "degrees_of_freedom = sample_size - 1\n",
    "\n",
    "# Critical t-value for a two-tailed test at the given confidence level\n",
    "critical_t_value = stats.t.ppf((1 + confidence_level) / 2, df=degrees_of_freedom)\n",
    "\n",
    "# Print results\n",
    "print(f\"Sample Mean: {sample_mean}\")\n",
    "print(f\"Sample Standard Deviation: {sample_std}\")\n",
    "print(f\"Hypothesized Population Mean: {hypothesized_mean}\")\n",
    "print(f\"t-statistic: {t_stat:.4f}\")\n",
    "print(f\"P-value: {p_value:.4f}\")\n",
    "print(f\"Critical t-value: ±{critical_t_value:.4f}\")\n",
    "\n",
    "# Check if the null hypothesis is rejected\n",
    "if abs(t_stat) > critical_t_value or p_value < (1 - confidence_level):\n",
    "    print(\"Null hypothesis rejected. Caffeine has a significant effect on reaction time.\")\n",
    "else:\n",
    "    print(\"Null hypothesis not rejected. No significant effect of caffeine on reaction time.\")\n"
   ]
  }
 ],
 "metadata": {
  "kernelspec": {
   "display_name": "Python 3",
   "language": "python",
   "name": "python3"
  },
  "language_info": {
   "codemirror_mode": {
    "name": "ipython",
    "version": 3
   },
   "file_extension": ".py",
   "mimetype": "text/x-python",
   "name": "python",
   "nbconvert_exporter": "python",
   "pygments_lexer": "ipython3",
   "version": "3.11.3"
  }
 },
 "nbformat": 4,
 "nbformat_minor": 2
}
